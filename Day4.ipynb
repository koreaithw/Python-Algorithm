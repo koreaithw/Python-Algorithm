{
 "cells": [
  {
   "cell_type": "code",
   "execution_count": 1,
   "id": "ff28a354",
   "metadata": {},
   "outputs": [
    {
     "name": "stdout",
     "output_type": "stream",
     "text": [
      "5\n"
     ]
    }
   ],
   "source": [
    "#문자열의 길이 구하기\n",
    "print(len('안녕하세요'))"
   ]
  },
  {
   "cell_type": "code",
   "execution_count": 2,
   "id": "642bb71b",
   "metadata": {},
   "outputs": [
    {
     "name": "stdout",
     "output_type": "stream",
     "text": [
      "True\n"
     ]
    }
   ],
   "source": [
    "#조건문\n",
    "\n",
    "#bool & if\n",
    "\n",
    "print(True)"
   ]
  },
  {
   "cell_type": "code",
   "execution_count": 3,
   "id": "a5887b38",
   "metadata": {},
   "outputs": [
    {
     "name": "stdout",
     "output_type": "stream",
     "text": [
      "False\n",
      "True\n",
      "True\n",
      "False\n",
      "False\n"
     ]
    }
   ],
   "source": [
    "print(10 == 100)\n",
    "print(10 != 100)\n",
    "print(10<100)\n",
    "print(10>100)\n",
    "print(10>=100)"
   ]
  },
  {
   "cell_type": "code",
   "execution_count": 4,
   "id": "0f3fe276",
   "metadata": {},
   "outputs": [
    {
     "name": "stdout",
     "output_type": "stream",
     "text": [
      "True\n",
      "False\n",
      "True\n",
      "False\n",
      "True\n"
     ]
    }
   ],
   "source": [
    "print(\"가방\" == \"가방\")\n",
    "print(\"가방\" == \"백\")\n",
    "print(\"가방\" != \"백\")\n",
    "print(\"가방\" > \"백\")  #한글은 사전 순서(가나다순)\n",
    "print(\"가방\" < \"백\")"
   ]
  },
  {
   "cell_type": "code",
   "execution_count": 6,
   "id": "936f78c3",
   "metadata": {},
   "outputs": [
    {
     "name": "stdout",
     "output_type": "stream",
     "text": [
      "정수를 입력하세요 >>3\n",
      "양수입니다.\n"
     ]
    }
   ],
   "source": [
    "#if 조건문\n",
    "# 조건에 따라 특정 코드를 실행하거나 특정 코드를 실행하지 않게 만들고 싶을때 사용\n",
    "# 코드의 실행 흐름을 변경시키는 것을 조건 분기라고 부른다.\n",
    "\n",
    "  num = int(input('정수를 입력하세요 >>'))\n",
    "\n",
    "if num > 0:\n",
    "    print('양수입니다.')\n",
    "if num < 0:\n",
    "    print('음수입니다.')\n",
    "if num == 0:\n",
    "    print('0입니다.')"
   ]
  },
  {
   "cell_type": "code",
   "execution_count": 12,
   "id": "4569d03d",
   "metadata": {},
   "outputs": [
    {
     "name": "stdout",
     "output_type": "stream",
     "text": [
      "2022-01-29 13:48:57.314587\n",
      "2022 년\n",
      "1 월\n",
      "29\n",
      "13\n",
      "48\n",
      "57\n"
     ]
    }
   ],
   "source": [
    "#날짜/시간과 관련된 기능을 가져온다.\n",
    "\n",
    "import datetime\n",
    "\n",
    "#현재의 날짜와 시간을 구하는 함수\n",
    "now = datetime.datetime.now()\n",
    "print(now)\n",
    "print(now.year,'년')\n",
    "print(now.month,'월')\n",
    "print(now.day)\n",
    "print(now.hour)\n",
    "print(now.minute)\n",
    "print(now.second)"
   ]
  },
  {
   "cell_type": "code",
   "execution_count": 16,
   "id": "036deace",
   "metadata": {},
   "outputs": [
    {
     "name": "stdout",
     "output_type": "stream",
     "text": [
      "현재 시각은 13시 51분 오전입니다\n"
     ]
    }
   ],
   "source": [
    "import datetime\n",
    "\n",
    "now = datetime.datetime.now()\n",
    "\n",
    "if now.hour < 12:\n",
    "    print(f'현재 시각은 {now.hour}시 {now.minute}분 오전입니다')\n",
    "\n",
    "if now.hour >= 12:\n",
    "    print(f'현재 시각은 {now.hour}시 {now.minute}분 오전입니다')"
   ]
  },
  {
   "cell_type": "code",
   "execution_count": 17,
   "id": "f8c848a4",
   "metadata": {},
   "outputs": [
    {
     "name": "stdout",
     "output_type": "stream",
     "text": [
      "이번 달은 1월로 겨울입니다.\n"
     ]
    }
   ],
   "source": [
    "#12,1,2 겨울 3,4,5 봄 6,7,8 여름 9,10,11 가을\n",
    "#이번 달은 1월로 겨울입니다\n",
    "#if만 사용하세요\n",
    "\n",
    "season = \"\"\n",
    "\n",
    "if 3 <= now.month <= 5:\n",
    "    season = '봄'\n",
    "if 6 <= now.month <= 8:\n",
    "    season = '여름'\n",
    "if 9 <= now.month <= 11:\n",
    "    season = '가을'\n",
    "if now.month == 12 or 1 <= now.month <=2:\n",
    "    season = '겨울'\n",
    "\n",
    "print(f'이번 달은 {now.month}월로 {season}입니다.')"
   ]
  },
  {
   "cell_type": "code",
   "execution_count": 18,
   "id": "0a8da3fc",
   "metadata": {},
   "outputs": [
    {
     "name": "stdout",
     "output_type": "stream",
     "text": [
      "정수를 입력하세요33\n",
      "홀수입니다.\n"
     ]
    }
   ],
   "source": [
    "#%연산자를 사용하지 않고 정수를 입력받아 그 수가 짝수인지 홀수인지 알려주는\n",
    "#프로그램을 작성하세요\n",
    "\n",
    "num = input('정수를 입력하세요')\n",
    "\n",
    "if num[-1] in \"02468\":\n",
    "    print('짝수입니다.')\n",
    "if num[-1] in \"13579\":\n",
    "    print('홀수입니다.')"
   ]
  },
  {
   "cell_type": "code",
   "execution_count": 19,
   "id": "0a2b2a19",
   "metadata": {},
   "outputs": [
    {
     "data": {
      "text/plain": [
       "True"
      ]
     },
     "execution_count": 19,
     "metadata": {},
     "output_type": "execute_result"
    }
   ],
   "source": [
    "'1' in '12345'"
   ]
  },
  {
   "cell_type": "code",
   "execution_count": 20,
   "id": "f8cd4dfc",
   "metadata": {},
   "outputs": [
    {
     "name": "stdout",
     "output_type": "stream",
     "text": [
      "정수 입력 >>3\n"
     ]
    }
   ],
   "source": [
    "#pass\n",
    "\n",
    "number = int(input('정수 입력 >>'))\n",
    "\n",
    "if number > 0:\n",
    "    pass\n",
    "else:\n",
    "    pass"
   ]
  },
  {
   "cell_type": "code",
   "execution_count": 25,
   "id": "5cad612f",
   "metadata": {},
   "outputs": [
    {
     "name": "stdout",
     "output_type": "stream",
     "text": [
      "3\n",
      "4\n",
      "5\n"
     ]
    }
   ],
   "source": [
    "#리스트와 반복문\n",
    "\n",
    "li = [1,2,3,4,5] #collection, mutable, ordered\n",
    "\n",
    "for i in li:\n",
    "    if i >= 3:\n",
    "        print(i)"
   ]
  },
  {
   "cell_type": "code",
   "execution_count": 30,
   "id": "016e39db",
   "metadata": {},
   "outputs": [
    {
     "name": "stdout",
     "output_type": "stream",
     "text": [
      "1\n",
      "2\n"
     ]
    }
   ],
   "source": [
    "#딕셔너리와 반복문\n",
    "dict = {\n",
    "    1:'홍길동',\n",
    "    2:'이몽룡'\n",
    "}"
   ]
  },
  {
   "cell_type": "code",
   "execution_count": 31,
   "id": "821f81f8",
   "metadata": {},
   "outputs": [
    {
     "name": "stdout",
     "output_type": "stream",
     "text": [
      "1\n",
      "2\n"
     ]
    }
   ],
   "source": [
    "for i in dict:\n",
    "    print(i)"
   ]
  },
  {
   "cell_type": "code",
   "execution_count": 35,
   "id": "d0fb479e",
   "metadata": {},
   "outputs": [
    {
     "data": {
      "text/plain": [
       "[0, 2, 4]"
      ]
     },
     "execution_count": 35,
     "metadata": {},
     "output_type": "execute_result"
    }
   ],
   "source": [
    "list(range(0, 5, 2)) #시작을 생략하면 0부터 5미만까지 증감값을 생략하면 1씩 증가"
   ]
  },
  {
   "cell_type": "code",
   "execution_count": 39,
   "id": "50182146",
   "metadata": {},
   "outputs": [
    {
     "name": "stdout",
     "output_type": "stream",
     "text": [
      "2번째 반복\n",
      "1번째 반복\n",
      "0번째 반복\n"
     ]
    }
   ],
   "source": [
    "#for : 반복횟수를 정확히 알고 있을 때 주로 사용\n",
    "#while : 반복횟수를 정확히 알 수 없을 때 주로 사용\n",
    "\n",
    "# while 1, for 1\n",
    "\n",
    "# 0번째 반복\n",
    "# 1번째 반복\n",
    "# 2번째 반복\n",
    "\n",
    "for i in range(2,-1,-1):\n",
    "    print(f'{i}번째 반복')\n",
    "    \n",
    "# i = 0\n",
    "# while i < 3:\n",
    "#     print(f'{i}번째 반복')\n",
    "#     i +=1"
   ]
  },
  {
   "cell_type": "code",
   "execution_count": 40,
   "id": "f35e02c4",
   "metadata": {},
   "outputs": [
    {
     "name": "stdout",
     "output_type": "stream",
     "text": [
      "0번째 반복입니다.\n",
      "종료할까요(y)>>1\n",
      "1번째 반복입니다.\n",
      "종료할까요(y)>>2\n",
      "2번째 반복입니다.\n",
      "종료할까요(y)>>3\n",
      "3번째 반복입니다.\n",
      "종료할까요(y)>>y\n",
      "반복을 종료합니다.\n"
     ]
    }
   ],
   "source": [
    "#break/continue\n",
    "\n",
    "#break 반복문 종료\n",
    "\n",
    "i = 0\n",
    "\n",
    "while True:\n",
    "    print(f'{i}번째 반복입니다.')\n",
    "    i +=1\n",
    "    \n",
    "    inp = input('종료할까요(y)>>')\n",
    "    if inp in ['Y','y']:\n",
    "        print('반복을 종료합니다.')\n",
    "        break"
   ]
  },
  {
   "cell_type": "code",
   "execution_count": 45,
   "id": "66adda71",
   "metadata": {},
   "outputs": [
    {
     "name": "stdout",
     "output_type": "stream",
     "text": [
      "1\n",
      "3\n",
      "5\n",
      "7\n",
      "9\n"
     ]
    }
   ],
   "source": [
    "#continue 현재의 반복을 중지하고 다음 반복으로 넘어 갈때 사용\n",
    "#전체 반복에서 부분을 빼고 일부만 실행 할 때 사용\n",
    "\n",
    "for num in range(1,11):\n",
    "    if num % 2 == 0:\n",
    "        continue\n",
    "    print(num)"
   ]
  },
  {
   "cell_type": "code",
   "execution_count": 48,
   "id": "800e11c1",
   "metadata": {},
   "outputs": [
    {
     "name": "stdout",
     "output_type": "stream",
     "text": [
      "1번 친구\n",
      "2번 철수\n",
      "3번 미애\n",
      "4번 형구\n",
      "5번 진수\n"
     ]
    }
   ],
   "source": [
    "# enumerate() 리스트의 요소를 반복할 때 현재 인덱스가 몇 번째인지 확인\n",
    "\n",
    "# 0번 진구\n",
    "# 1번 철수\n",
    "# 2번 미애\n",
    "# 3번 형구\n",
    "# 4번 진수\n",
    "student = ['친구','철수','미애','형구','진수']\n",
    "\n",
    "# no = 0\n",
    "# for i in student:\n",
    "#     print(f'{no}번 {i}')\n",
    "#     no+=1\n",
    "\n",
    "for no,name in enumerate(student):\n",
    "    print(f'{no+1}번 {name}')"
   ]
  },
  {
   "cell_type": "code",
   "execution_count": 51,
   "id": "5d577852",
   "metadata": {},
   "outputs": [
    {
     "name": "stdout",
     "output_type": "stream",
     "text": [
      "홍길동의 키는 185입니다.\n",
      "이몽룡의 키는 189입니다.\n",
      "성춘향의 키는 168입니다.\n"
     ]
    }
   ],
   "source": [
    "#items() 딕셔너리는 items() 함수를 사용하여 Key와 Value 값을\n",
    "#한번 추출할 수 있다.\n",
    "\n",
    "dict = {\n",
    "    '홍길동':185,\n",
    "    '이몽룡':189,\n",
    "    '성춘향':168\n",
    "}\n",
    "\n",
    "# for i in dict:\n",
    "#     print(f'{i}의 키는 {dict[i]입니다.}')\n",
    "          \n",
    "for n, h in dict.items():\n",
    "    print(f'{n}의 키는 {h}입니다.')"
   ]
  },
  {
   "cell_type": "code",
   "execution_count": 52,
   "id": "d87d8fec",
   "metadata": {},
   "outputs": [
    {
     "data": {
      "text/plain": [
       "[0, 2, 4, 6, 8, 10, 12, 14, 16, 18]"
      ]
     },
     "execution_count": 52,
     "metadata": {},
     "output_type": "execute_result"
    }
   ],
   "source": [
    "#리스트 내포 list comprehensions\n",
    "\n",
    "array = []\n",
    "\n",
    "for i in range(0, 20, 2):\n",
    "    array.append(i)\n",
    "    \n",
    "array"
   ]
  },
  {
   "cell_type": "code",
   "execution_count": 54,
   "id": "c2274d7d",
   "metadata": {},
   "outputs": [
    {
     "name": "stdout",
     "output_type": "stream",
     "text": [
      "[0, 2, 4, 6, 8, 10, 12, 14, 16, 18]\n"
     ]
    }
   ],
   "source": [
    "array = [i for i in range(0, 20, 2)]\n",
    "print(array)"
   ]
  },
  {
   "cell_type": "code",
   "execution_count": 55,
   "id": "86950e5c",
   "metadata": {},
   "outputs": [
    {
     "name": "stdout",
     "output_type": "stream",
     "text": [
      "['사과', '체리', '바나나', '과자']\n"
     ]
    }
   ],
   "source": [
    "arr = ['사과','체리','바나나','과자']\n",
    "\n",
    "output = [i    for i in arr    if i!='과자']\n",
    "\n",
    "print(output)"
   ]
  },
  {
   "cell_type": "code",
   "execution_count": null,
   "id": "f06d3774",
   "metadata": {},
   "outputs": [],
   "source": []
  },
  {
   "cell_type": "code",
   "execution_count": null,
   "id": "7b6834af",
   "metadata": {},
   "outputs": [],
   "source": []
  },
  {
   "cell_type": "code",
   "execution_count": null,
   "id": "4f75797f",
   "metadata": {},
   "outputs": [],
   "source": []
  },
  {
   "cell_type": "code",
   "execution_count": null,
   "id": "c029ae66",
   "metadata": {},
   "outputs": [],
   "source": []
  },
  {
   "cell_type": "code",
   "execution_count": null,
   "id": "2f11183c",
   "metadata": {},
   "outputs": [],
   "source": []
  },
  {
   "cell_type": "code",
   "execution_count": null,
   "id": "879b7132",
   "metadata": {},
   "outputs": [],
   "source": []
  }
 ],
 "metadata": {
  "kernelspec": {
   "display_name": "Python 3 (ipykernel)",
   "language": "python",
   "name": "python3"
  },
  "language_info": {
   "codemirror_mode": {
    "name": "ipython",
    "version": 3
   },
   "file_extension": ".py",
   "mimetype": "text/x-python",
   "name": "python",
   "nbconvert_exporter": "python",
   "pygments_lexer": "ipython3",
   "version": "3.9.7"
  }
 },
 "nbformat": 4,
 "nbformat_minor": 5
}
