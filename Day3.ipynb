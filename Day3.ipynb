{
  "nbformat": 4,
  "nbformat_minor": 0,
  "metadata": {
    "colab": {
      "name": "Day3.ipynb",
      "provenance": [],
      "authorship_tag": "ABX9TyN5Fr/OGp9jo/e2sLC99cRG",
      "include_colab_link": true
    },
    "kernelspec": {
      "name": "python3",
      "display_name": "Python 3"
    },
    "language_info": {
      "name": "python"
    }
  },
  "cells": [
    {
      "cell_type": "markdown",
      "metadata": {
        "id": "view-in-github",
        "colab_type": "text"
      },
      "source": [
        "<a href=\"https://colab.research.google.com/github/lje1343/ai/blob/main/Day3.ipynb\" target=\"_parent\"><img src=\"https://colab.research.google.com/assets/colab-badge.svg\" alt=\"Open In Colab\"/></a>"
      ]
    },
    {
      "cell_type": "code",
      "execution_count": 3,
      "metadata": {
        "colab": {
          "base_uri": "https://localhost:8080/"
        },
        "id": "tw9yIaeLzsPJ",
        "outputId": "778e91e9-4c5b-487b-dc8f-1f471f213c7e"
      },
      "outputs": [
        {
          "output_type": "stream",
          "name": "stdout",
          "text": [
            "1\n",
            "['하나', '둘']\n",
            "[9, 2, 3, 4, 5]\n",
            "[9, 2, 3, 4, 5, 9, 2, 3, 4, 5, 9, 2, 3, 4, 5]\n",
            "[9, 2, 3, 4, 5, 8]\n"
          ]
        }
      ],
      "source": [
        "##############################\n",
        "#Review\n",
        "##############################\n",
        "\n",
        "# collection  : 많은 데이터(elements)를 저장하는...\n",
        "\n",
        "# 리스트 list          튜플 tuple         딕셔너리 dict         셋 set\n",
        "# []                   ()                 {}                    {}\n",
        "# mutable              immutable           mutable              mutable\n",
        "# indexing/slicing     indexing/slicing    nope                 nope\n",
        "#                      (1,)                {Key:Value}          중복데이터 미허용\n",
        "#                                          자바의 map, JS json  중복제거\n",
        "\n",
        "\n",
        "#List\n",
        "list1 = [1,2,3,4,5]\n",
        "list2 = [2,3,'하나','둘',True,False]\n",
        "\n",
        "print(list1[0])   #indexing\n",
        "print(list2[2:4])  #slicing[시작:끝(미만)]\n",
        "\n",
        "list1[0] = 9\n",
        "print(list1)\n",
        "\n",
        "print(list1*3)\n",
        "\n",
        "list1.append(8) #append()는 마지막에 넣는다\n",
        "print(list1)\n",
        "\n",
        "list1.insert(0, 10) #특정 위치를 지정하여 삽입"
      ]
    },
    {
      "cell_type": "code",
      "source": [
        "list3 = list1\n",
        "print(list1)\n",
        "print(list3)\n",
        "#id : 실제 메모리의 위치\n",
        "print(id(list1))\n",
        "print(id(list3))\n",
        "\n",
        "del list3[0]\n",
        "\n",
        "print(list1)\n",
        "print(list3)\n",
        "\n",
        "#변수는 실제로 닮아있지 않고, 메모리의 위치를 가리킨다.(99점)\n",
        "# list1 ---------> [9, 2, 3, 4, 5, 8] <--------- list3 (100점)\n",
        "\n",
        "list4 = list1.copy()\n",
        "\n",
        "print(list1)\n",
        "print(list4)\n",
        "print(id(list1))\n",
        "print(id(list4))\n",
        "del list4[0]\n",
        "\n",
        "print(list1)\n",
        "print(list4)"
      ],
      "metadata": {
        "colab": {
          "base_uri": "https://localhost:8080/"
        },
        "id": "5Elzt2sTzvH5",
        "outputId": "93efd61c-6755-4160-d1e6-b574c58f2444"
      },
      "execution_count": 19,
      "outputs": [
        {
          "output_type": "stream",
          "name": "stdout",
          "text": [
            "[4, 5, 8]\n",
            "[4, 5, 8]\n",
            "140080918612640\n",
            "140080918612640\n",
            "[5, 8]\n",
            "[5, 8]\n",
            "[5, 8]\n",
            "[5, 8]\n",
            "140080918612640\n",
            "140080849123200\n",
            "[5, 8]\n",
            "[8]\n"
          ]
        }
      ]
    },
    {
      "cell_type": "code",
      "source": [
        "t1 = ('대한','민국')\n",
        "print(type(t1))\n",
        "\n",
        "t2 = (1,)\n",
        "print(type(t2))"
      ],
      "metadata": {
        "colab": {
          "base_uri": "https://localhost:8080/"
        },
        "id": "BswcC_hVzvJ2",
        "outputId": "62cb12f7-e983-4a96-ac88-06a29b93babd"
      },
      "execution_count": 9,
      "outputs": [
        {
          "output_type": "stream",
          "name": "stdout",
          "text": [
            "<class 'tuple'>\n",
            "<class 'tuple'>\n"
          ]
        }
      ]
    },
    {
      "cell_type": "code",
      "source": [
        "# t1[0] = '만세'\n",
        "t1[0]\n",
        "# t1.pop()"
      ],
      "metadata": {
        "colab": {
          "base_uri": "https://localhost:8080/",
          "height": 209
        },
        "id": "geCjpHqVzvML",
        "outputId": "6e290013-b79c-4bcc-ca6f-6e5333672b0d"
      },
      "execution_count": 11,
      "outputs": [
        {
          "output_type": "error",
          "ename": "AttributeError",
          "evalue": "ignored",
          "traceback": [
            "\u001b[0;31m---------------------------------------------------------------------------\u001b[0m",
            "\u001b[0;31mAttributeError\u001b[0m                            Traceback (most recent call last)",
            "\u001b[0;32m<ipython-input-11-b4cdd6e4eb79>\u001b[0m in \u001b[0;36m<module>\u001b[0;34m()\u001b[0m\n\u001b[1;32m      1\u001b[0m \u001b[0;31m# t1[0] = '만세'\u001b[0m\u001b[0;34m\u001b[0m\u001b[0;34m\u001b[0m\u001b[0;34m\u001b[0m\u001b[0m\n\u001b[1;32m      2\u001b[0m \u001b[0mt1\u001b[0m\u001b[0;34m[\u001b[0m\u001b[0;36m0\u001b[0m\u001b[0;34m]\u001b[0m\u001b[0;34m\u001b[0m\u001b[0;34m\u001b[0m\u001b[0m\n\u001b[0;32m----> 3\u001b[0;31m \u001b[0mt1\u001b[0m\u001b[0;34m.\u001b[0m\u001b[0mpop\u001b[0m\u001b[0;34m(\u001b[0m\u001b[0;34m)\u001b[0m\u001b[0;34m\u001b[0m\u001b[0;34m\u001b[0m\u001b[0m\n\u001b[0m",
            "\u001b[0;31mAttributeError\u001b[0m: 'tuple' object has no attribute 'pop'"
          ]
        }
      ]
    },
    {
      "cell_type": "code",
      "source": [
        "#Dict\n",
        "\n",
        "dict = {\n",
        "    'key':'value'\n",
        "}\n",
        "\n",
        "print(dict)\n",
        "print(dict['key'])\n",
        "\n",
        "dict['newkey'] = 'ai'\n",
        "print(dict)\n",
        "\n",
        "del dict['key']\n",
        "print(dict)\n"
      ],
      "metadata": {
        "colab": {
          "base_uri": "https://localhost:8080/"
        },
        "id": "PBPj7z9XzvOV",
        "outputId": "b93f5446-62b3-4031-fe88-9c646f0087bc"
      },
      "execution_count": 15,
      "outputs": [
        {
          "output_type": "stream",
          "name": "stdout",
          "text": [
            "{'key': 'value'}\n",
            "value\n",
            "{'key': 'value', 'newkey': 'ai'}\n",
            "{'newkey': 'ai'}\n"
          ]
        }
      ]
    },
    {
      "cell_type": "code",
      "source": [
        "#Set\n",
        "\n",
        "set = {1,1,2,2,2,3}\n",
        "print(set)\n",
        "\n",
        "# print(set[0])"
      ],
      "metadata": {
        "colab": {
          "base_uri": "https://localhost:8080/",
          "height": 226
        },
        "id": "384yGdE5zvQj",
        "outputId": "c44d3ada-2857-4d05-b48a-55a627db5738"
      },
      "execution_count": 17,
      "outputs": [
        {
          "output_type": "stream",
          "name": "stdout",
          "text": [
            "{1, 2, 3}\n"
          ]
        },
        {
          "output_type": "error",
          "ename": "TypeError",
          "evalue": "ignored",
          "traceback": [
            "\u001b[0;31m---------------------------------------------------------------------------\u001b[0m",
            "\u001b[0;31mTypeError\u001b[0m                                 Traceback (most recent call last)",
            "\u001b[0;32m<ipython-input-17-3f27a57361d3>\u001b[0m in \u001b[0;36m<module>\u001b[0;34m()\u001b[0m\n\u001b[1;32m      4\u001b[0m \u001b[0mprint\u001b[0m\u001b[0;34m(\u001b[0m\u001b[0mset\u001b[0m\u001b[0;34m)\u001b[0m\u001b[0;34m\u001b[0m\u001b[0;34m\u001b[0m\u001b[0m\n\u001b[1;32m      5\u001b[0m \u001b[0;34m\u001b[0m\u001b[0m\n\u001b[0;32m----> 6\u001b[0;31m \u001b[0mprint\u001b[0m\u001b[0;34m(\u001b[0m\u001b[0mset\u001b[0m\u001b[0;34m[\u001b[0m\u001b[0;36m0\u001b[0m\u001b[0;34m]\u001b[0m\u001b[0;34m)\u001b[0m\u001b[0;34m\u001b[0m\u001b[0;34m\u001b[0m\u001b[0m\n\u001b[0m",
            "\u001b[0;31mTypeError\u001b[0m: 'set' object is not subscriptable"
          ]
        }
      ]
    },
    {
      "cell_type": "code",
      "source": [
        "########################\n",
        "# if 조건문\n",
        "########################\n",
        "\n",
        "# if 조건식(True or False):\n",
        "#     True일 경우 실행\n",
        "# else:\n",
        "#     False일 경우 실행\n",
        "\n",
        "if False:\n",
        "  print('True')\n",
        "else:\n",
        "  print('False')\n",
        "\n",
        "if False:\n",
        "  print('1st')\n",
        "elif False:\n",
        "  print('2nd')\n",
        "elif True:\n",
        "  print('3rd')\n",
        "else:\n",
        "  print('etc')\n",
        "\n",
        "score = 80\n",
        "\n",
        "if score >= 100:\n",
        "  print('상')\n",
        "else:\n",
        "  if score >= 50:\n",
        "    print('중')\n",
        "  else:\n",
        "    print('하')\n",
        "\n",
        "if score >= 100:\n",
        "  print('상')\n",
        "elif score >= 50:\n",
        "    print('중')\n",
        "else:\n",
        "    print('하')\n"
      ],
      "metadata": {
        "colab": {
          "base_uri": "https://localhost:8080/"
        },
        "id": "AIckpSbSzvSz",
        "outputId": "ad7b84a5-e4ae-4420-8ebd-50d22105f25b"
      },
      "execution_count": 23,
      "outputs": [
        {
          "output_type": "stream",
          "name": "stdout",
          "text": [
            "False\n",
            "3rd\n",
            "중\n",
            "중\n"
          ]
        }
      ]
    },
    {
      "cell_type": "code",
      "source": [
        "score = int(input('당신의 점수를 입력하세요 >> '))\n",
        "\n",
        "if score >= 90:\n",
        "  gr = \"A\"\n",
        "elif score >= 80:\n",
        "  gr = \"B\"\n",
        "elif score >= 70:\n",
        "  gr = \"C\"\n",
        "elif score >= 60:\n",
        "  gr = \"D\"\n",
        "else:\n",
        "  gr = \"F\"\n",
        "\n",
        "if int(score%10) >= 7:\n",
        "  de = '+'\n",
        "elif int(score%10) >= 4:\n",
        "  de = 'O'\n",
        "else:\n",
        "  de = '-'\n",
        "print(f'당신의 점수는 {score}이며 학점은 {gr}{de}입니다.')"
      ],
      "metadata": {
        "colab": {
          "base_uri": "https://localhost:8080/"
        },
        "id": "18up091uzvVR",
        "outputId": "b9d6f717-eb56-4c64-97ad-67e3b26a1f44"
      },
      "execution_count": 41,
      "outputs": [
        {
          "output_type": "stream",
          "name": "stdout",
          "text": [
            "당신의 점수를 입력하세요 >> 100\n",
            "당신의 점수는 100이며 학점은 A-입니다.\n"
          ]
        }
      ]
    },
    {
      "cell_type": "code",
      "source": [
        "a = input('입력하세요 >>')\n",
        "\n",
        "print(a)\n",
        "print(type(a))\n",
        "\n",
        "b = int(a)\n",
        "print(b)\n",
        "print(type(b))"
      ],
      "metadata": {
        "colab": {
          "base_uri": "https://localhost:8080/"
        },
        "id": "8c4K_lTCzvZf",
        "outputId": "b0b556ce-f67b-464c-825a-274b07a62e4d"
      },
      "execution_count": 44,
      "outputs": [
        {
          "output_type": "stream",
          "name": "stdout",
          "text": [
            "입력하세요 >>55\n",
            "55\n",
            "<class 'str'>\n",
            "55\n",
            "<class 'int'>\n"
          ]
        }
      ]
    },
    {
      "cell_type": "code",
      "source": [
        "######################\n",
        "# while\n",
        "################3#####\n",
        "\n",
        "# 반복문은 작업 수행을 한번이 아니라 계속해서 수행해야 할 때 사용한다.\n",
        "# while 반복 작업을 몇 번 수행할지 확실하지 않을 때 주로 사용한다.\n",
        "# '운동장을 해가 질때까지 반복해서 돌자'\n",
        "\n",
        "#while 조건식:\n",
        "#   실행구문\n",
        "\n",
        "# while True:\n",
        "#   print('운동장 돌기')"
      ],
      "metadata": {
        "id": "fb5cD0P5zvb3"
      },
      "execution_count": 46,
      "outputs": []
    },
    {
      "cell_type": "code",
      "source": [
        "n = 1\n",
        "while n <= 10:\n",
        "  print(n)\n",
        "  n = n + 1\n",
        "\n",
        "print('----------')\n",
        "print(n)"
      ],
      "metadata": {
        "colab": {
          "base_uri": "https://localhost:8080/"
        },
        "id": "YpkCG-wSzvd6",
        "outputId": "a311c805-63ca-4e13-bd21-67299e421e4e"
      },
      "execution_count": 49,
      "outputs": [
        {
          "output_type": "stream",
          "name": "stdout",
          "text": [
            "1\n",
            "2\n",
            "3\n",
            "4\n",
            "5\n",
            "6\n",
            "7\n",
            "8\n",
            "9\n",
            "10\n",
            "----------\n",
            "11\n"
          ]
        }
      ]
    },
    {
      "cell_type": "code",
      "source": [
        "n = 1\n",
        "while n <= 10:\n",
        "  print(n)\n",
        "  n += 1  #n = n + 1  (자바 n++)\n",
        "\n",
        "print('----------')\n",
        "print(n)"
      ],
      "metadata": {
        "id": "xavJivz-TEFV"
      },
      "execution_count": null,
      "outputs": []
    },
    {
      "cell_type": "code",
      "source": [
        "n = 10\n",
        "while n>=1:\n",
        "  if n%2 ==0:\n",
        "    print(n)\n",
        "  n -=1\n",
        "  #n-=2"
      ],
      "metadata": {
        "colab": {
          "base_uri": "https://localhost:8080/"
        },
        "id": "MT0RVEr2TEHS",
        "outputId": "7698844c-08c3-4719-cc5a-d928ba94eaa7"
      },
      "execution_count": 52,
      "outputs": [
        {
          "output_type": "stream",
          "name": "stdout",
          "text": [
            "10\n",
            "8\n",
            "6\n",
            "4\n",
            "2\n"
          ]
        }
      ]
    },
    {
      "cell_type": "code",
      "source": [
        "list = []\n",
        "no = 1\n",
        "while no!=0:\n",
        "  no = int(input('정수를 입력하세요 >> '))\n",
        "  \n",
        "  if no != 0:\n",
        "    list.append(no)\n",
        " \n",
        "print(list)"
      ],
      "metadata": {
        "colab": {
          "base_uri": "https://localhost:8080/"
        },
        "id": "AXRmRuFoTEJQ",
        "outputId": "ab1dc119-d4af-4abf-b511-bf2d63e0098f"
      },
      "execution_count": 70,
      "outputs": [
        {
          "output_type": "stream",
          "name": "stdout",
          "text": [
            "정수를 입력하세요 >> 2\n",
            "정수를 입력하세요 >> 3\n",
            "정수를 입력하세요 >> 0\n",
            "[2, 3]\n"
          ]
        }
      ]
    },
    {
      "cell_type": "code",
      "source": [
        "#while 중첩\n",
        "# while 내부에 또 다른 while을 사용하는 것을 중첩이라고 한다.\n",
        "\n",
        "day = 1\n",
        "\n",
        "while day <= 3:\n",
        "  hour = 1\n",
        "  while hour <= 3:\n",
        "    print(f'{day}일차 {hour}교시입니다.')\n",
        "    hour+=1\n",
        "  day+=1\n"
      ],
      "metadata": {
        "colab": {
          "base_uri": "https://localhost:8080/"
        },
        "id": "Q2-4zyzyTELE",
        "outputId": "891ab799-d577-4ba5-e469-1a0a8ec7574f"
      },
      "execution_count": 99,
      "outputs": [
        {
          "output_type": "stream",
          "name": "stdout",
          "text": [
            "1일차 1교시입니다.\n",
            "1일차 2교시입니다.\n",
            "1일차 3교시입니다.\n",
            "2일차 1교시입니다.\n",
            "2일차 2교시입니다.\n",
            "2일차 3교시입니다.\n",
            "3일차 1교시입니다.\n",
            "3일차 2교시입니다.\n",
            "3일차 3교시입니다.\n"
          ]
        }
      ]
    },
    {
      "cell_type": "code",
      "source": [
        "dan=2\n",
        "while dan<=9:\n",
        "  n = 1\n",
        "  while n<=9:\n",
        "    print(f'{dan} x {n} = {dan*n}')\n",
        "    n+=1\n",
        "  dan+=1"
      ],
      "metadata": {
        "colab": {
          "base_uri": "https://localhost:8080/"
        },
        "id": "Waf5Ip90ZANw",
        "outputId": "870b8ad5-685d-4742-cc1a-3bad941647fd"
      },
      "execution_count": 106,
      "outputs": [
        {
          "output_type": "stream",
          "name": "stdout",
          "text": [
            "2 x 1 = 2\n",
            "2 x 2 = 4\n",
            "2 x 3 = 6\n",
            "2 x 4 = 8\n",
            "2 x 5 = 10\n",
            "2 x 6 = 12\n",
            "2 x 7 = 14\n",
            "2 x 8 = 16\n",
            "2 x 9 = 18\n",
            "3 x 1 = 3\n",
            "3 x 2 = 6\n",
            "3 x 3 = 9\n",
            "3 x 4 = 12\n",
            "3 x 5 = 15\n",
            "3 x 6 = 18\n",
            "3 x 7 = 21\n",
            "3 x 8 = 24\n",
            "3 x 9 = 27\n",
            "4 x 1 = 4\n",
            "4 x 2 = 8\n",
            "4 x 3 = 12\n",
            "4 x 4 = 16\n",
            "4 x 5 = 20\n",
            "4 x 6 = 24\n",
            "4 x 7 = 28\n",
            "4 x 8 = 32\n",
            "4 x 9 = 36\n",
            "5 x 1 = 5\n",
            "5 x 2 = 10\n",
            "5 x 3 = 15\n",
            "5 x 4 = 20\n",
            "5 x 5 = 25\n",
            "5 x 6 = 30\n",
            "5 x 7 = 35\n",
            "5 x 8 = 40\n",
            "5 x 9 = 45\n",
            "6 x 1 = 6\n",
            "6 x 2 = 12\n",
            "6 x 3 = 18\n",
            "6 x 4 = 24\n",
            "6 x 5 = 30\n",
            "6 x 6 = 36\n",
            "6 x 7 = 42\n",
            "6 x 8 = 48\n",
            "6 x 9 = 54\n",
            "7 x 1 = 7\n",
            "7 x 2 = 14\n",
            "7 x 3 = 21\n",
            "7 x 4 = 28\n",
            "7 x 5 = 35\n",
            "7 x 6 = 42\n",
            "7 x 7 = 49\n",
            "7 x 8 = 56\n",
            "7 x 9 = 63\n",
            "8 x 1 = 8\n",
            "8 x 2 = 16\n",
            "8 x 3 = 24\n",
            "8 x 4 = 32\n",
            "8 x 5 = 40\n",
            "8 x 6 = 48\n",
            "8 x 7 = 56\n",
            "8 x 8 = 64\n",
            "8 x 9 = 72\n",
            "9 x 1 = 9\n",
            "9 x 2 = 18\n",
            "9 x 3 = 27\n",
            "9 x 4 = 36\n",
            "9 x 5 = 45\n",
            "9 x 6 = 54\n",
            "9 x 7 = 63\n",
            "9 x 8 = 72\n",
            "9 x 9 = 81\n"
          ]
        }
      ]
    },
    {
      "cell_type": "code",
      "source": [
        "no = int(input('정수를 입력하세요 >> '))\n",
        "num = 1\n",
        "\n",
        "if no <= 0:\n",
        "  print('잘못된 입력입니다')\n",
        "\n",
        "\n",
        "while no>0:\n",
        "  print(f'{num}번째 Hello')\n",
        "  no-=1\n",
        "  num+=1\n",
        "  "
      ],
      "metadata": {
        "colab": {
          "base_uri": "https://localhost:8080/"
        },
        "id": "u1CyVlV_wEU2",
        "outputId": "b56e0097-1482-46f4-b796-3c61a79ddef0"
      },
      "execution_count": 126,
      "outputs": [
        {
          "output_type": "stream",
          "name": "stdout",
          "text": [
            "정수를 입력하세요 >> 3\n",
            "1번째 Hello\n",
            "2번째 Hello\n",
            "3번째 Hello\n"
          ]
        }
      ]
    },
    {
      "cell_type": "code",
      "source": [
        "n = 1\n",
        "\n",
        "while n<101:\n",
        "  if n%7==0:\n",
        "      print(n)\n",
        "  n+=1\n"
      ],
      "metadata": {
        "colab": {
          "base_uri": "https://localhost:8080/"
        },
        "id": "rzSfuY3YwEXD",
        "outputId": "cfc7382d-4dec-45e7-c906-07b1a3cd13b3"
      },
      "execution_count": 137,
      "outputs": [
        {
          "output_type": "stream",
          "name": "stdout",
          "text": [
            "7\n",
            "14\n",
            "21\n",
            "28\n",
            "35\n",
            "42\n",
            "49\n",
            "56\n",
            "63\n",
            "70\n",
            "77\n",
            "84\n",
            "91\n",
            "98\n"
          ]
        }
      ]
    },
    {
      "cell_type": "code",
      "source": [
        "m = int(input('자판기에 얼마를 넣을까요? >> '))\n",
        "cnt = 1\n",
        "\n",
        "if m<300:\n",
        "  print(f'잔돈 {m}원')\n",
        "\n",
        "while m>=300:\n",
        "  if m%300>=0:\n",
        "    m-=300\n",
        "    print(f'커피 {cnt}잔, 잔돈 {m}원')\n",
        "    cnt+=1\n"
      ],
      "metadata": {
        "colab": {
          "base_uri": "https://localhost:8080/"
        },
        "id": "wuzFOvz7wEZL",
        "outputId": "ac35f029-a4db-402b-8c60-1726dc17005a"
      },
      "execution_count": 169,
      "outputs": [
        {
          "output_type": "stream",
          "name": "stdout",
          "text": [
            "자판기에 얼마를 넣을까요? >> 1400\n",
            "커피 1잔, 잔돈 1100원\n",
            "커피 2잔, 잔돈 800원\n",
            "커피 3잔, 잔돈 500원\n",
            "커피 4잔, 잔돈 200원\n"
          ]
        }
      ]
    },
    {
      "cell_type": "code",
      "source": [
        "cnt=0\n",
        "arr = []\n",
        "\n",
        "while True:\n",
        "  n = int(input('0~9 사이 정수를 입력하세요 >> '))\n",
        "  if n not in arr:\n",
        "    arr.append(n)\n",
        "    cnt +=1\n",
        "  if cnt==5:\n",
        "    break\n",
        "\n",
        "print(f'5개의 고유한 정수가 모두 입력되었습니다.\\n입력된 값은 {arr}입니다')"
      ],
      "metadata": {
        "colab": {
          "base_uri": "https://localhost:8080/"
        },
        "id": "imrMjgbvwEbs",
        "outputId": "f0a2cd6d-b994-4ee2-91ff-275a22e54df2"
      },
      "execution_count": 184,
      "outputs": [
        {
          "output_type": "stream",
          "name": "stdout",
          "text": [
            "0~9 사이 정수를 입력하세요 >> 1\n",
            "0~9 사이 정수를 입력하세요 >> 2\n",
            "0~9 사이 정수를 입력하세요 >> 3\n",
            "0~9 사이 정수를 입력하세요 >> 4\n",
            "0~9 사이 정수를 입력하세요 >> 5\n",
            "5개의 고유한 정수가 모두 입력되었습니다.\n",
            "입력된 값은 [1, 2, 3, 4, 5]입니다\n"
          ]
        }
      ]
    },
    {
      "cell_type": "code",
      "source": [
        "num = set([])\n",
        "\n",
        "while len(num) <= 4:\n",
        "  no = int(input('0~9 사이 정수를 입력하세요 >> '))\n",
        "  num.add(no)\n",
        "  print(num)\n",
        "\n",
        "print(num)"
      ],
      "metadata": {
        "id": "g3pN4tIxwEf8"
      },
      "execution_count": null,
      "outputs": []
    },
    {
      "cell_type": "code",
      "source": [
        "n=1\n",
        "cnt=1\n",
        "\n",
        "while n<101:\n",
        "  while cnt<11:\n",
        "      print(n,end='\\t')\n",
        "      cnt+=1\n",
        "      n+=1\n",
        "  cnt=1\n",
        "  print()"
      ],
      "metadata": {
        "colab": {
          "base_uri": "https://localhost:8080/"
        },
        "id": "3_FNfBwxwEiR",
        "outputId": "4683d805-cd76-40fd-d887-628c9dc888f6"
      },
      "execution_count": 234,
      "outputs": [
        {
          "output_type": "stream",
          "name": "stdout",
          "text": [
            "1\t2\t3\t4\t5\t6\t7\t8\t9\t10\t\n",
            "11\t12\t13\t14\t15\t16\t17\t18\t19\t20\t\n",
            "21\t22\t23\t24\t25\t26\t27\t28\t29\t30\t\n",
            "31\t32\t33\t34\t35\t36\t37\t38\t39\t40\t\n",
            "41\t42\t43\t44\t45\t46\t47\t48\t49\t50\t\n",
            "51\t52\t53\t54\t55\t56\t57\t58\t59\t60\t\n",
            "61\t62\t63\t64\t65\t66\t67\t68\t69\t70\t\n",
            "71\t72\t73\t74\t75\t76\t77\t78\t79\t80\t\n",
            "81\t82\t83\t84\t85\t86\t87\t88\t89\t90\t\n",
            "91\t92\t93\t94\t95\t96\t97\t98\t99\t100\t\n"
          ]
        }
      ]
    },
    {
      "cell_type": "code",
      "source": [
        "##########\n",
        "# for\n",
        "##########\n",
        "# 몇 번 반복시킬지 그 횟수가 명확할때 주로 사용한다.\n",
        "\n",
        "# for 변수 in 반복시킬값들:\n",
        "#   반복실행문\n",
        "\n",
        "# 리스트\n",
        "# for i in [1,2,3]:\n",
        "#   print(i)\n",
        "\n",
        "# # 문자열\n",
        "# for i in 'hello':\n",
        "#   print(i)\n",
        "\n",
        "# # 튜플\n",
        "# for i in (1,2,3):\n",
        "#   print(i)\n",
        "\n",
        "# range()\n",
        "for i in range(1,4,2):  #range(시작(생략가능), 끝(미만), 스탭(생략가능))\n",
        "  print(i)\n",
        "\n",
        "#set, dict는 순서와 상관 없이는 사용 가능"
      ],
      "metadata": {
        "colab": {
          "base_uri": "https://localhost:8080/"
        },
        "id": "N-_KnmEFwEkf",
        "outputId": "f7b1c9cb-4d94-4ebb-bfb6-bf17482448e6"
      },
      "execution_count": 245,
      "outputs": [
        {
          "output_type": "stream",
          "name": "stdout",
          "text": [
            "1\n",
            "3\n"
          ]
        }
      ]
    },
    {
      "cell_type": "code",
      "source": [
        "pw = input('비밀 번호를 입력하세요>>')\n",
        "\n",
        "for i in pw:\n",
        "  if pw.isalpha() == True:\n",
        "    print('불가능한 비번입니다')\n",
        "    break\n",
        "  elif pw.isnumeric() == True:\n",
        "    print('불가능한 비번입니다')\n",
        "    break\n",
        "  else:\n",
        "    print('사용 가능한 비번입니다')\n",
        "    break\n"
      ],
      "metadata": {
        "colab": {
          "base_uri": "https://localhost:8080/"
        },
        "id": "AmLJpRPlwEmW",
        "outputId": "65e519b3-ea89-4d50-809d-bf1727b68bca"
      },
      "execution_count": 256,
      "outputs": [
        {
          "output_type": "stream",
          "name": "stdout",
          "text": [
            "비밀 번호를 입력하세요>>asd123\n",
            "사용 가능한 비번입니다\n"
          ]
        }
      ]
    },
    {
      "cell_type": "code",
      "source": [
        "pw = input('비밀 번호를 입력하세요>>')\n",
        "ch_cnt = 0\n",
        "no_cnt = 0\n",
        "\n",
        "for ch in pw:\n",
        "  if ch.isalpha():\n",
        "    ch_cnt += 1\n",
        "  elif ch.isnumeric():\n",
        "    no_cnt += 1\n",
        "  \n",
        "if ch_cnt > 0 and no_cnt > 0:\n",
        "  print('사용 가능한 비번입니다.')\n",
        "else:\n",
        "  print('사용 불가한 비번입니다.')"
      ],
      "metadata": {
        "colab": {
          "base_uri": "https://localhost:8080/"
        },
        "id": "a64-4QRjwEoT",
        "outputId": "2dd5545d-39f6-4f6d-d645-85817e334fcb"
      },
      "execution_count": 261,
      "outputs": [
        {
          "output_type": "stream",
          "name": "stdout",
          "text": [
            "비밀 번호를 입력하세요>>asd123\n",
            "사용 가능한 비번입니다.\n"
          ]
        }
      ]
    },
    {
      "cell_type": "code",
      "source": [
        "# range([start], stop, [step])\n",
        "\n",
        "# 1. 숫자들을 컬렉션으로 만든다\n",
        "# 2. start를 생략하면 0부터 시작한다\n",
        "# 3. stop은 생략할 수 없다\n",
        "# 4. step을 생략하면 1씩 증가한다\n",
        "\n",
        "range(5)\n"
      ],
      "metadata": {
        "colab": {
          "base_uri": "https://localhost:8080/"
        },
        "id": "DE8drmS4wEqd",
        "outputId": "df34cbdc-29a7-4b97-d16e-8403ff954f00"
      },
      "execution_count": 264,
      "outputs": [
        {
          "output_type": "execute_result",
          "data": {
            "text/plain": [
              "range(0, 5)"
            ]
          },
          "metadata": {},
          "execution_count": 264
        }
      ]
    },
    {
      "cell_type": "code",
      "source": [
        "n = int(input('출력할 구구단을 입력하세요>> '))\n",
        "\n",
        "for i in range(1,10,1):\n",
        "  print(f'{n} x {i} = {n*i}')"
      ],
      "metadata": {
        "colab": {
          "base_uri": "https://localhost:8080/"
        },
        "id": "XWtOeRvVTEM3",
        "outputId": "0dc727d9-cff6-4df9-b1b7-85d0a8360faf"
      },
      "execution_count": 4,
      "outputs": [
        {
          "output_type": "stream",
          "name": "stdout",
          "text": [
            "출력할 구구단을 입력하세요>> 2\n",
            "2 x 1 = 2\n",
            "2 x 2 = 4\n",
            "2 x 3 = 6\n",
            "2 x 4 = 8\n",
            "2 x 5 = 10\n",
            "2 x 6 = 12\n",
            "2 x 7 = 14\n",
            "2 x 8 = 16\n",
            "2 x 9 = 18\n"
          ]
        }
      ]
    },
    {
      "cell_type": "code",
      "source": [
        "#set, dict도 for문으로 사용은 가능하나 순서는 보장하지 않는다.\n",
        "\n",
        "for i in {'가위','바위','보'}:\n",
        "  print(i)"
      ],
      "metadata": {
        "colab": {
          "base_uri": "https://localhost:8080/"
        },
        "id": "H2NgDTxkTEOk",
        "outputId": "67bf06bf-3628-48ef-f3a0-b556889740c0"
      },
      "execution_count": 10,
      "outputs": [
        {
          "output_type": "stream",
          "name": "stdout",
          "text": [
            "가위\n",
            "바위\n",
            "보\n"
          ]
        }
      ]
    },
    {
      "cell_type": "code",
      "source": [
        "person = {\n",
        "    'name':'에밀리',\n",
        "    'age':'20'\n",
        "}\n",
        "\n",
        "for i in person:\n",
        "  print(i)\n",
        "\n",
        "for i in person:\n",
        "  print(person[i])"
      ],
      "metadata": {
        "colab": {
          "base_uri": "https://localhost:8080/"
        },
        "id": "iEKsmG6SYcIZ",
        "outputId": "d401e66f-8f9e-446d-ce5f-5cdc0822fed9"
      },
      "execution_count": 12,
      "outputs": [
        {
          "output_type": "stream",
          "name": "stdout",
          "text": [
            "name\n",
            "age\n",
            "에밀리\n",
            "20\n"
          ]
        }
      ]
    },
    {
      "cell_type": "code",
      "source": [
        "n = int(input('임의의 양수를 입력하세요>> '))\n",
        "sum=0\n",
        "\n",
        "for i in range(n):\n",
        "  sum+=n\n",
        "  n-=1\n",
        "\n",
        "print(f'1부터 {n}사이의 모든 정수의 합계는 {sum}입니다')"
      ],
      "metadata": {
        "colab": {
          "base_uri": "https://localhost:8080/"
        },
        "id": "UgxhnGTsYgNt",
        "outputId": "d3e50300-64c7-4618-cbe5-c801ccd54987"
      },
      "execution_count": 27,
      "outputs": [
        {
          "output_type": "stream",
          "name": "stdout",
          "text": [
            "임의의 양수를 입력하세요>> 100\n",
            "1부터 0사이의 모든 정수의 합계는 5050입니다\n"
          ]
        }
      ]
    },
    {
      "cell_type": "code",
      "source": [
        "n = int(input('몇개의 과일을 보관할까요? >> '))\n",
        "basket = []\n",
        "\n",
        "for i in range(n):\n",
        "  f = input(f'{i}번째 과일을 입력하세요 >>')\n",
        "  basket.append(f)\n",
        "\n",
        "print(f'입력받은 과일들은 {basket}입니다')"
      ],
      "metadata": {
        "colab": {
          "base_uri": "https://localhost:8080/"
        },
        "id": "7pwBdsu7YgQJ",
        "outputId": "08518ec3-7ad7-4f9f-a457-edd03f2134ce"
      },
      "execution_count": 32,
      "outputs": [
        {
          "output_type": "stream",
          "name": "stdout",
          "text": [
            "몇개의 과일을 보관할까요? >> 2\n",
            "0번째 과일을 입력하세요 >>사과\n",
            "1번째 과일을 입력하세요 >>바나나\n",
            "입력받은 과일들은 ['사과', '바나나']입니다\n"
          ]
        }
      ]
    },
    {
      "cell_type": "code",
      "source": [
        "no = int(input('몇개의 과일을 보관할까요? >> '))\n",
        "\n",
        "for i in range(1, no+1):\n",
        "  fruit = input(f'{i}번째 과일을 입력하세요')"
      ],
      "metadata": {
        "id": "AE6FjmmvYgRz"
      },
      "execution_count": null,
      "outputs": []
    },
    {
      "cell_type": "code",
      "source": [
        "# 5/2 = 2.5  파이썬은 자바와 달리 실수값을 준다\n",
        "# 5//2 = 2\n",
        "\n",
        "i=1\n",
        "sp=0\n",
        "while i<= 99:\n",
        "    if sp ==10:\n",
        "      print()\n",
        "      sp=0\n",
        "\n",
        "    cnt=0\n",
        "    a = i // 10\n",
        "    b = i % 10\n",
        "    sp+=1\n",
        "\n",
        "    if a != 0 and a % 3 == 0:\n",
        "      cnt+=1\n",
        "    if b != 0 and b % 3 == 0:\n",
        "      cnt+=1\n",
        "\n",
        "    if cnt==2:\n",
        "      print(\"짝짝\",end=\"\\t\")\n",
        "    elif cnt==1:\n",
        "      print(\"짝\",end=\"\\t\")\n",
        "    else:\n",
        "      print(i,end=\"\\t\")\n",
        "\n",
        "    i+=1\n",
        "\n",
        "  "
      ],
      "metadata": {
        "colab": {
          "base_uri": "https://localhost:8080/"
        },
        "id": "R9U5RYjEYgT8",
        "outputId": "21c2fcba-a6cb-4bcb-90b2-8f8d1b4af4b9"
      },
      "execution_count": 47,
      "outputs": [
        {
          "output_type": "stream",
          "name": "stdout",
          "text": [
            "1\t2\t짝\t4\t5\t짝\t7\t8\t짝\t10\t\n",
            "11\t12\t짝\t14\t15\t짝\t17\t18\t짝\t20\t\n",
            "21\t22\t짝\t24\t25\t짝\t27\t28\t짝\t짝\t\n",
            "짝\t짝\t짝짝\t짝\t짝\t짝짝\t짝\t짝\t짝짝\t40\t\n",
            "41\t42\t짝\t44\t45\t짝\t47\t48\t짝\t50\t\n",
            "51\t52\t짝\t54\t55\t짝\t57\t58\t짝\t짝\t\n",
            "짝\t짝\t짝짝\t짝\t짝\t짝짝\t짝\t짝\t짝짝\t70\t\n",
            "71\t72\t짝\t74\t75\t짝\t77\t78\t짝\t80\t\n",
            "81\t82\t짝\t84\t85\t짝\t87\t88\t짝\t짝\t\n",
            "짝\t짝\t짝짝\t짝\t짝\t짝짝\t짝\t짝\t짝짝\t"
          ]
        }
      ]
    },
    {
      "cell_type": "code",
      "source": [
        ""
      ],
      "metadata": {
        "id": "vu_lEfS8YgWO"
      },
      "execution_count": null,
      "outputs": []
    },
    {
      "cell_type": "code",
      "source": [
        ""
      ],
      "metadata": {
        "id": "9-3uqYF3TEQb"
      },
      "execution_count": null,
      "outputs": []
    },
    {
      "cell_type": "code",
      "source": [
        ""
      ],
      "metadata": {
        "id": "DHkDxSztzvgZ"
      },
      "execution_count": null,
      "outputs": []
    }
  ]
}