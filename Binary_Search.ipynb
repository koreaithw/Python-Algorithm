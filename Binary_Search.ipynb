{
  "nbformat": 4,
  "nbformat_minor": 0,
  "metadata": {
    "colab": {
      "name": "Binary Search",
      "provenance": [],
      "collapsed_sections": [],
      "authorship_tag": "ABX9TyPKMU1I7SulDN4Qvvt90dyh",
      "include_colab_link": true
    },
    "kernelspec": {
      "name": "python3",
      "display_name": "Python 3"
    },
    "language_info": {
      "name": "python"
    }
  },
  "cells": [
    {
      "cell_type": "markdown",
      "metadata": {
        "id": "view-in-github",
        "colab_type": "text"
      },
      "source": [
        "<a href=\"https://colab.research.google.com/github/lje1343/ai/blob/main/Binary_Search.ipynb\" target=\"_parent\"><img src=\"https://colab.research.google.com/assets/colab-badge.svg\" alt=\"Open In Colab\"/></a>"
      ]
    },
    {
      "cell_type": "code",
      "source": [
        "# Binary Search 이진 탐색법\n",
        "# 이진 탐색법의 알고리즘\n",
        "# 1. 가운데 요소를 선택\n",
        "# 2. 가운데 요소의 데이터와 찾는 데이터를 비교\n",
        "# 3. 탐색 범위를 절반으로 줄이는 처리\n",
        "\n",
        "#  0   1   2   3   4   5   6    제일 가운데 있는 3번을 열어본다.\n",
        "#             --\n",
        "#             19              <-- 찾고 있는 17이 아니다.\n",
        "# 0   1   2\n",
        "#     --\n",
        "#     13                      <-- 찾고 있는 17이 아니다.\n",
        "# 2\n",
        "# --\n",
        "# 17                          <-- 찾고 있는 17을 발견"
      ],
      "metadata": {
        "id": "pQDG3AH2_PxW"
      },
      "execution_count": null,
      "outputs": []
    },
    {
      "cell_type": "code",
      "execution_count": 3,
      "metadata": {
        "colab": {
          "base_uri": "https://localhost:8080/"
        },
        "id": "o05IKyNe5Mvb",
        "outputId": "11478224-4c1d-4854-cef1-33460f797c6e"
      },
      "outputs": [
        {
          "output_type": "stream",
          "name": "stdout",
          "text": [
            "2번째 요소가 일치\n"
          ]
        }
      ],
      "source": [
        "def binary_search(no,arr): \n",
        "  head=0\n",
        "  # head변수 선언, 0 대입\n",
        "  tail=len(arr)-1\n",
        "  # tail변수 선언, arr값의 길이 - 1 대입 \n",
        "\n",
        "  while head <= tail: # head값이 tail값보다 작거나 같으면 True, 아니면 반복문 종료\n",
        "    center = (head + tail) // 2\n",
        "    # 가운데값을 구해서 점점 범위를 좁혀간다. (// : 소수점값을 버려준다. -> 5//2 = 2, 5/2 = 2.5)\n",
        "    if arr[center] == no:\n",
        "      return print(f'{center}번째 요소가 일치')\n",
        "    # center값이 찾고자하는 값과 같으면 return\n",
        "    if arr[center] < no:\n",
        "      head = center + 1\n",
        "      # 찾고하는값이 arr[center]보다 크면, head에 center+1 대입\n",
        "    else:\n",
        "      tail = center - 1\n",
        "    # 아닐경우, tail에 center-1 대입 해준다.\n",
        "\n",
        "  return print(f'찾지 못했습니다')\n",
        "  # 반복문이 끝났는데도 arr에 no을 찾지못하였을때 출력\n",
        "\n",
        "\n",
        "binary_search(17, [11, 13, 17, 19, 23, 29, 31]) # 함수(찾고자하는 값, [리스트])"
      ]
    }
  ]
}