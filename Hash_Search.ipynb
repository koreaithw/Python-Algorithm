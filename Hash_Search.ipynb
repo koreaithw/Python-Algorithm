{
  "nbformat": 4,
  "nbformat_minor": 0,
  "metadata": {
    "colab": {
      "name": "Hash_Search",
      "provenance": [],
      "collapsed_sections": [],
      "authorship_tag": "ABX9TyNq8JtVt5/F6UBoU0VcjNdw",
      "include_colab_link": true
    },
    "kernelspec": {
      "name": "python3",
      "display_name": "Python 3"
    },
    "language_info": {
      "name": "python"
    }
  },
  "cells": [
    {
      "cell_type": "markdown",
      "metadata": {
        "id": "view-in-github",
        "colab_type": "text"
      },
      "source": [
        "<a href=\"https://colab.research.google.com/github/lje1343/ai/blob/main/Hash_Search.ipynb\" target=\"_parent\"><img src=\"https://colab.research.google.com/assets/colab-badge.svg\" alt=\"Open In Colab\"/></a>"
      ]
    },
    {
      "cell_type": "code",
      "source": [
        "#arrD\n",
        "# 0   1   2   3  4   5   6 \n",
        "# 12 25 36 20 30  8  42\n",
        "\n",
        "#arrH\n",
        "# 0  1    2  3  4   5  6  7   8   9  10\n",
        "# 42 12  0 25 36  0  0  0  30  20  8  \n",
        "\n",
        "arrD = [12, 25, 36, 20, 30, 8, 42]  # arrD 리스트에 값을 대입한다.\n",
        "arrH = [0 for i in range(0,11)]     # arrH 리스트를 크기를 10으로 정하고, 0을 대입한다.\n",
        "\n",
        "def hash_search(x,arr):\n",
        "    # arrH에 데이터가 모두 저장된 후 들어오는 함수 -> 함수(찾을값,리스트)\n",
        "  k = x % 11  # 나머지는 0 ~ 10 안에서 나온다.\n",
        "  for i in arr:\n",
        "    # arrH 인덱스수만큼 돌려준다.\n",
        "    if x == arrH[k]:  # 찾고자하는값과 동일한 경우\n",
        "      return print(f'저장 위치는 {k}번째 입니다.')\n",
        "    else:\n",
        "      k = (k+1) % 11  # 데이터 충돌을 피하기 위해 0값이 들어있는 다른 인덱스를 찾는다.\n",
        "  return print(f'{x}를 찾을 수 없습니다.')\n",
        "  \n",
        "for i in arrD:\n",
        "  k = i % 11  # 나머지는 0 ~ 10 안에서 나온다.\n",
        "    # 1번째 for문 : arrD 인덱스수만큼 돌려준다. -> arrD값들의 나머지를 구해준다.         \n",
        "  for j in arrH:\n",
        "    # 2번째 for문 : arrH 인덱스수만큼 돌려준다. -> 0이 있는 자리를 찾아준다.\n",
        "    if arrH[k] == 0: \n",
        "      arrH[k] = i\n",
        "      break # 넣고자하는 인덱스의 값이 0이면 i값을 담은 후 2번째 for문을 벗어난다.\n",
        "    else:  \n",
        "      k = (k+1) % 11  # 데이터 충돌을 피하기 위해 0값이 들어있는 다른 인덱스를 찾는다.\n",
        "\n",
        "print(arrH)\n",
        "hash_search(10,arrH)"
      ],
      "metadata": {
        "colab": {
          "base_uri": "https://localhost:8080/"
        },
        "id": "6Ur9PhS1-9Kn",
        "outputId": "5e57669d-8660-43a5-d9f5-ed65416cc2db"
      },
      "execution_count": 64,
      "outputs": [
        {
          "output_type": "stream",
          "name": "stdout",
          "text": [
            "[42, 12, 0, 25, 36, 0, 0, 0, 30, 20, 8]\n",
            "10를 찾을 수 없습니다.\n"
          ]
        }
      ]
    }
  ]
}