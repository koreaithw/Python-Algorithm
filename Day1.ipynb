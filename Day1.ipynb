{
  "nbformat": 4,
  "nbformat_minor": 0,
  "metadata": {
    "colab": {
      "name": "Day1.ipynb",
      "provenance": [],
      "collapsed_sections": [],
      "authorship_tag": "ABX9TyMFbypjjUYkwTDDC6bzxTLD",
      "include_colab_link": true
    },
    "kernelspec": {
      "name": "python3",
      "display_name": "Python 3"
    },
    "language_info": {
      "name": "python"
    }
  },
  "cells": [
    {
      "cell_type": "markdown",
      "metadata": {
        "id": "view-in-github",
        "colab_type": "text"
      },
      "source": [
        "<a href=\"https://colab.research.google.com/github/lje1343/ai/blob/main/Day1.ipynb\" target=\"_parent\"><img src=\"https://colab.research.google.com/assets/colab-badge.svg\" alt=\"Open In Colab\"/></a>"
      ]
    },
    {
      "cell_type": "code",
      "execution_count": 8,
      "metadata": {
        "colab": {
          "base_uri": "https://localhost:8080/"
        },
        "id": "kBrFoIRMwyuH",
        "outputId": "4b3da12a-9ea3-456e-ed2d-72c41ddf12e7"
      },
      "outputs": [
        {
          "output_type": "stream",
          "name": "stdout",
          "text": [
            "Hello World\n"
          ]
        }
      ],
      "source": [
        "''' \n",
        "작성자 : 홍길동\n",
        "작성일 : 2022-01-25\n",
        "버전 : 0.1\n",
        "'''\n",
        "\n",
        "\"\"\"\n",
        "작성자 : 홍길동\n",
        "작성일 : 2022-01-25\n",
        "버전 : 0.1\n",
        "Doc String\n",
        "\"\"\"\n",
        "\n",
        "# 보통 삼중 따옴표 주석은\n",
        "# 여러줄을 주석으로 사용할 때 사용한다.\n",
        "\n",
        "# 주석 붙이는 위치\n",
        "print('Hello World') # 보통 행의 우측 또는 위에 주석을 붙인다.\n",
        "\n",
        "################\n",
        "# 변수 Variable\n",
        "################\n",
        "\n",
        "score = 200\n",
        "\n",
        "print(score)\n",
        "\n",
        "score = 300\n",
        "\n",
        "print(score)"
      ]
    },
    {
      "cell_type": "code",
      "source": [
        "1a = 'h1'\n",
        "print(1a)"
      ],
      "metadata": {
        "id": "V3J2uWzLA9tv"
      },
      "execution_count": null,
      "outputs": []
    },
    {
      "cell_type": "code",
      "source": [
        "a1 = 'h1'\n",
        "print(a1)"
      ],
      "metadata": {
        "colab": {
          "base_uri": "https://localhost:8080/"
        },
        "id": "FgBbUsBH6nzS",
        "outputId": "1c574207-31b1-4082-d751-09b8bee47a4e"
      },
      "execution_count": 10,
      "outputs": [
        {
          "output_type": "stream",
          "name": "stdout",
          "text": [
            "h1\n"
          ]
        }
      ]
    },
    {
      "cell_type": "code",
      "source": [
        "a = 20\n",
        "b = 1500\n",
        "\n",
        "student_avg = 20\n",
        "math_sum = 1500"
      ],
      "metadata": {
        "colab": {
          "base_uri": "https://localhost:8080/"
        },
        "id": "hG8j9PgtBfet",
        "outputId": "359ac75a-c9a8-4590-8633-6d4b5f740874"
      },
      "execution_count": 11,
      "outputs": [
        {
          "output_type": "stream",
          "name": "stdout",
          "text": [
            "20\n"
          ]
        }
      ]
    },
    {
      "cell_type": "code",
      "source": [
        "name = 'Alice'\n",
        "age = 25\n",
        "address = '''우편번호 12345\n",
        "서울시 영등포구 여의도동\n",
        "서울빌딩 501호'''\n",
        "boyfriend = None\n",
        "height = 168.5\n",
        "\n",
        "print(name)\n",
        "print(age)\n",
        "print(address)\n",
        "print(boyfriend)\n",
        "print(height)"
      ],
      "metadata": {
        "colab": {
          "base_uri": "https://localhost:8080/"
        },
        "id": "WbFW7qZyCpt6",
        "outputId": "8d6c46a4-d51c-4521-abd1-e424fb69323a"
      },
      "execution_count": 13,
      "outputs": [
        {
          "output_type": "stream",
          "name": "stdout",
          "text": [
            "Alice\n",
            "25\n",
            "우편번호 12345\n",
            "서울시 영등포구 여의도동\n",
            "서울빌딩 501호\n",
            "None\n",
            "168.5\n"
          ]
        }
      ]
    },
    {
      "cell_type": "code",
      "source": [
        "################\n",
        "# 기본 자료형 type\n",
        "################\n",
        "\n",
        "a = int(1.9)\n",
        "print(a)\n",
        "\n",
        "b = int(True)\n",
        "print(b)\n",
        "\n",
        "b = int(False)\n",
        "print(b)\n",
        "\n",
        "c = int(False)\n",
        "print(c)"
      ],
      "metadata": {
        "colab": {
          "base_uri": "https://localhost:8080/"
        },
        "id": "VMFkeD2zEWd2",
        "outputId": "ced51a82-543f-4614-aa94-20d7e124e3d0"
      },
      "execution_count": 16,
      "outputs": [
        {
          "output_type": "stream",
          "name": "stdout",
          "text": [
            "1\n",
            "1\n",
            "0\n",
            "0\n"
          ]
        }
      ]
    },
    {
      "cell_type": "code",
      "source": [
        "a = 100\n",
        "b = '100'\n",
        "print(type(a))\n",
        "print(type(b))\n",
        "\n",
        "print(a)\n",
        "print(b)\n",
        "print(a==b)\n",
        "\n",
        "c = int(b)\n",
        "print(type(c))\n",
        "print(a==c)"
      ],
      "metadata": {
        "colab": {
          "base_uri": "https://localhost:8080/"
        },
        "id": "NusUnQyoE-wz",
        "outputId": "94ab140b-3f7a-4a38-ac29-e63532f48cdc"
      },
      "execution_count": 24,
      "outputs": [
        {
          "output_type": "stream",
          "name": "stdout",
          "text": [
            "<class 'int'>\n",
            "<class 'str'>\n",
            "100\n",
            "100\n",
            "False\n",
            "<class 'int'>\n",
            "True\n"
          ]
        }
      ]
    },
    {
      "cell_type": "code",
      "source": [
        "# 실수 float\n",
        "\n",
        "a = float(1)\n",
        "print(a)\n",
        "\n",
        "b = float(True)\n",
        "print(b)\n",
        "\n",
        "c = float('3.14')\n",
        "print(c)"
      ],
      "metadata": {
        "colab": {
          "base_uri": "https://localhost:8080/"
        },
        "id": "X4UYwfrkGit5",
        "outputId": "df240ad6-9a16-4367-84d7-e9d9501c9e25"
      },
      "execution_count": 28,
      "outputs": [
        {
          "output_type": "stream",
          "name": "stdout",
          "text": [
            "1.0\n",
            "1.0\n",
            "3.14\n"
          ]
        }
      ]
    },
    {
      "cell_type": "code",
      "source": [
        "# bool 논리 True or False\n",
        "\n",
        "a = bool(0)\n",
        "print(a)\n",
        "\n",
        "b = bool()\n",
        "print()\n",
        "\n",
        "c = bool([])\n",
        "print(c)\n",
        "\n",
        "d = bool([100])\n",
        "print(d)"
      ],
      "metadata": {
        "colab": {
          "base_uri": "https://localhost:8080/"
        },
        "id": "tJVPlu_6a3rM",
        "outputId": "a129094b-fb29-4aab-99f9-deae458f4b40"
      },
      "execution_count": 29,
      "outputs": [
        {
          "output_type": "stream",
          "name": "stdout",
          "text": [
            "False\n",
            "\n",
            "False\n",
            "True\n"
          ]
        }
      ]
    },
    {
      "cell_type": "code",
      "source": [
        "\n",
        "############\n",
        "# 문자열 String\n",
        "############\n",
        "\n",
        "a = '대한민국'\n",
        "a = \"대한민국\"\n",
        "\n",
        "b = str(100)\n",
        "print(b)\n",
        "print(type(b))\n",
        "\n",
        "c = str(True)\n",
        "print(c)\n",
        "print(type(c))\n"
      ],
      "metadata": {
        "colab": {
          "base_uri": "https://localhost:8080/"
        },
        "id": "WdLGwTKGbR3J",
        "outputId": "475390b7-9de2-43ea-8833-3bc5f5874ba4"
      },
      "execution_count": 31,
      "outputs": [
        {
          "output_type": "stream",
          "name": "stdout",
          "text": [
            "100\n",
            "<class 'str'>\n",
            "True\n",
            "<class 'str'>\n"
          ]
        }
      ]
    },
    {
      "cell_type": "code",
      "source": [
        "# 문자열 인덱싱\n",
        "\n",
        "# hello 파이썬은 0에서 시작한다.\n",
        "\n",
        "s = 'Hello'\n",
        "print(s[4])\n",
        "\n",
        "print(s[-1])\n",
        "print(s[-5] == s[0])"
      ],
      "metadata": {
        "colab": {
          "base_uri": "https://localhost:8080/"
        },
        "id": "ms2AdEHvb7ai",
        "outputId": "f235409b-6e6d-49e2-c08c-11836026d551"
      },
      "execution_count": 38,
      "outputs": [
        {
          "output_type": "stream",
          "name": "stdout",
          "text": [
            "o\n",
            "o\n",
            "True\n"
          ]
        }
      ]
    },
    {
      "cell_type": "code",
      "source": [
        "ss = \"990211-1005432\"\n",
        "print(ss[0:2]) # 0 번째부터 2번째 미만까지...[start:stop:step]\n",
        "print(ss[0:2]) # step 은 생략 가능...\n",
        "print(ss[0:10:2])"
      ],
      "metadata": {
        "colab": {
          "base_uri": "https://localhost:8080/"
        },
        "id": "rEIudUgMfORe",
        "outputId": "f5fbecd4-e941-4447-cd2f-22630ef4bb7e"
      },
      "execution_count": 42,
      "outputs": [
        {
          "output_type": "stream",
          "name": "stdout",
          "text": [
            "99\n",
            "99\n",
            "901-0\n"
          ]
        }
      ]
    },
    {
      "cell_type": "code",
      "source": [
        "#print\n",
        "\n",
        "print('Hello 'World'')"
      ],
      "metadata": {
        "colab": {
          "base_uri": "https://localhost:8080/",
          "height": 136
        },
        "id": "hi5juLASfOWq",
        "outputId": "8b88cb1a-f6c6-4b4f-fdfc-76b94788f01c"
      },
      "execution_count": 44,
      "outputs": [
        {
          "output_type": "error",
          "ename": "SyntaxError",
          "evalue": "ignored",
          "traceback": [
            "\u001b[0;36m  File \u001b[0;32m\"<ipython-input-44-4e9df5039938>\"\u001b[0;36m, line \u001b[0;32m3\u001b[0m\n\u001b[0;31m    print('Hello 'World'')\u001b[0m\n\u001b[0m                      ^\u001b[0m\n\u001b[0;31mSyntaxError\u001b[0m\u001b[0;31m:\u001b[0m invalid syntax\n"
          ]
        }
      ]
    },
    {
      "cell_type": "code",
      "source": [
        "print(\"Hello 'World'\")"
      ],
      "metadata": {
        "colab": {
          "base_uri": "https://localhost:8080/"
        },
        "id": "nAnEdT-ohTae",
        "outputId": "6e22dc4b-77fc-44e6-d9aa-078002894241"
      },
      "execution_count": 45,
      "outputs": [
        {
          "output_type": "stream",
          "name": "stdout",
          "text": [
            "Hello 'World'\n"
          ]
        }
      ]
    },
    {
      "cell_type": "code",
      "source": [
        "print('Hello \\'World\\'')\n",
        "print(\"Hello \\\"World\\\"\")\n",
        "print('Hello \"World\"')"
      ],
      "metadata": {
        "colab": {
          "base_uri": "https://localhost:8080/"
        },
        "id": "rwlrGw3PhTje",
        "outputId": "357cd698-dde4-471a-aed8-baaba905fa5c"
      },
      "execution_count": 49,
      "outputs": [
        {
          "output_type": "stream",
          "name": "stdout",
          "text": [
            "Hello 'World'\n",
            "Hello \"World\"\n",
            "Hello \"World\"\n"
          ]
        }
      ]
    },
    {
      "cell_type": "code",
      "source": [
        "print('Hello\\n \"World\"')"
      ],
      "metadata": {
        "colab": {
          "base_uri": "https://localhost:8080/"
        },
        "id": "iuC_2E8DiF9v",
        "outputId": "bc96c6f4-aa75-44c8-cc87-085c79ebe2ca"
      },
      "execution_count": 50,
      "outputs": [
        {
          "output_type": "stream",
          "name": "stdout",
          "text": [
            "Hello\n",
            " \"World\"\n"
          ]
        }
      ]
    },
    {
      "cell_type": "code",
      "source": [
        "print(\"이름 \\n 전화\")"
      ],
      "metadata": {
        "colab": {
          "base_uri": "https://localhost:8080/"
        },
        "id": "dDSL8-VkiTlo",
        "outputId": "4ba8ace7-b467-4fd1-c215-69b406af870f"
      },
      "execution_count": 51,
      "outputs": [
        {
          "output_type": "stream",
          "name": "stdout",
          "text": [
            "이름 \n",
            " 전화\n"
          ]
        }
      ]
    },
    {
      "cell_type": "code",
      "source": [
        "print(\"이름 \\t 연락처\")\n",
        "print('홍길동 \\t010-2020-2903')"
      ],
      "metadata": {
        "colab": {
          "base_uri": "https://localhost:8080/"
        },
        "id": "xqnr_25niT34",
        "outputId": "bb072b76-fb97-4417-8f22-77db015b9011"
      },
      "execution_count": 52,
      "outputs": [
        {
          "output_type": "stream",
          "name": "stdout",
          "text": [
            "이름 \t 연락처\n",
            "홍길동 \t010-2020-2903\n"
          ]
        }
      ]
    },
    {
      "cell_type": "code",
      "source": [
        "print('재미있는 ',' 파이썬')"
      ],
      "metadata": {
        "colab": {
          "base_uri": "https://localhost:8080/"
        },
        "id": "eG_M51kkiUFZ",
        "outputId": "cacdc215-1bf2-451d-c8b4-febf5ebbadcf"
      },
      "execution_count": 53,
      "outputs": [
        {
          "output_type": "stream",
          "name": "stdout",
          "text": [
            "재미있는   파이썬\n"
          ]
        }
      ]
    },
    {
      "cell_type": "code",
      "source": [
        "print('평점', end=':')\n",
        "print('5점')"
      ],
      "metadata": {
        "colab": {
          "base_uri": "https://localhost:8080/"
        },
        "id": "m8LdmthZiUR7",
        "outputId": "812b355f-2933-4148-e539-ba899ebd1ed7"
      },
      "execution_count": 59,
      "outputs": [
        {
          "output_type": "stream",
          "name": "stdout",
          "text": [
            "평점:5점\n"
          ]
        }
      ]
    },
    {
      "cell_type": "code",
      "source": [
        "print('국어','영어','수학')\n",
        "print('국어','영어','수학', sep = '/')\n",
        "print('국어','영어','수학', sep = ', ')\n",
        "print('국어','영어','수학', sep = '\\n')\n",
        "print('\\n국어\\n영어\\n수학')"
      ],
      "metadata": {
        "colab": {
          "base_uri": "https://localhost:8080/"
        },
        "id": "qqhTGmahooEg",
        "outputId": "ff2f9f5b-76b2-41bf-ce15-dddacd8a328e"
      },
      "execution_count": 62,
      "outputs": [
        {
          "output_type": "stream",
          "name": "stdout",
          "text": [
            "국어 영어 수학\n",
            "국어/영어/수학\n",
            "국어, 영어, 수학\n",
            "국어\n",
            "영어\n",
            "수학\n",
            "\n",
            "국어\n",
            "영어\n",
            "수학\n"
          ]
        }
      ]
    },
    {
      "cell_type": "code",
      "source": [
        "# %연산자\n",
        "\n",
        "print(10)\n",
        "print('%d' % 10)  # %d decimal 정수\n",
        "print('%f' % 3.14)  # %f float 실수\n",
        "print('%s' % '학생') #%s string 문자열\n",
        "\n",
        "print('%d 을 입력하세요.' % 10)  # %d decimal 정수\n",
        "print('원주율은 %f 입니다.' % 3.14)  # %f float 실수\n",
        "print('저는 %s 입니다.' % '학생') #%s string 문자열\n",
        "\n",
        "print('%d을 입력하세요' % 10)\n",
        "print('%s을 입력하세요' % 10)\n",
        "print('원주율은 %f 입니다.' % 3.14)\n",
        "print('원주율은 %s 입니다.' % 3.14)\n",
        "std = \"대학생\"\n",
        "print('저는 %s 입니다.' % std)\n",
        "print('저는', std, '입니다')"
      ],
      "metadata": {
        "colab": {
          "base_uri": "https://localhost:8080/"
        },
        "id": "9PVdwoQ7qaj-",
        "outputId": "f821ae96-6ed5-4bb1-9f8f-b2d0fb0b2e79"
      },
      "execution_count": 67,
      "outputs": [
        {
          "output_type": "stream",
          "name": "stdout",
          "text": [
            "10\n",
            "10\n",
            "3.140000\n",
            "학생\n",
            "10 을 입력하세요.\n",
            "원주율은 3.140000 입니다.\n",
            "저는 학생 입니다.\n",
            "10을 입력하세요\n",
            "10을 입력하세요\n",
            "원주율은 3.140000 입니다.\n",
            "원주율은 3.14 입니다.\n",
            "저는 대학생 입니다.\n",
            "저는 대학생 입니다\n"
          ]
        }
      ]
    },
    {
      "cell_type": "code",
      "source": [
        "print(\"%d\" % 1)\n",
        "print(\"%5d\" % 1)\n",
        "print(\"%-5d\" % 1)\n",
        "print(\"%5d\" % 11)\n",
        "print(\"%-5d\" % 11)"
      ],
      "metadata": {
        "colab": {
          "base_uri": "https://localhost:8080/"
        },
        "id": "wf1AQ-7bqamb",
        "outputId": "4b36e2d6-2067-4765-9772-bb9b22e43ad5"
      },
      "execution_count": 71,
      "outputs": [
        {
          "output_type": "stream",
          "name": "stdout",
          "text": [
            "1\n",
            "    1\n",
            "1    \n",
            "   11\n",
            "11   \n"
          ]
        }
      ]
    },
    {
      "cell_type": "code",
      "source": [
        "print('원주율은 %f 입니다.' % 3.14)\n",
        "print('원주율은 %5.2f 입니다.' % 3.14)\n",
        "print('원주율은 %5.1f 입니다.' % 3.14)\n",
        "print('원주율은 %-5.1f 입니다.' % 3.14)\n",
        "print('원주율은 %.2f 입니다.' % 3.14)"
      ],
      "metadata": {
        "colab": {
          "base_uri": "https://localhost:8080/"
        },
        "id": "gt1DrIOAt9Tm",
        "outputId": "4c7af4f0-0b1b-490f-bc95-f6355395d66b"
      },
      "execution_count": 80,
      "outputs": [
        {
          "output_type": "stream",
          "name": "stdout",
          "text": [
            "원주율은 3.140000 입니다.\n",
            "원주율은  3.14 입니다.\n",
            "원주율은   3.1 입니다.\n",
            "원주율은 3.1   입니다.\n",
            "원주율은 3.14 입니다.\n"
          ]
        }
      ]
    },
    {
      "cell_type": "code",
      "source": [
        "name = 'kai'\n",
        "print('내 이름은 %s입니다.' % name)"
      ],
      "metadata": {
        "colab": {
          "base_uri": "https://localhost:8080/"
        },
        "id": "UclbZXJ9qaoh",
        "outputId": "bb8a4bdc-7cea-46e1-ed47-88f213714ced"
      },
      "execution_count": 81,
      "outputs": [
        {
          "output_type": "stream",
          "name": "stdout",
          "text": [
            "내 이름은 kai입니다.\n"
          ]
        }
      ]
    },
    {
      "cell_type": "code",
      "source": [
        "height = 185.5\n",
        "print('내 키는 %.1f입니다.' % height)\n",
        "print('내 키는 %s입니다.' % height)\n",
        "print('내 키는 %s이고 이름은 %s입니다' % (height))"
      ],
      "metadata": {
        "colab": {
          "base_uri": "https://localhost:8080/"
        },
        "id": "dC42lHI8qaq7",
        "outputId": "96e02e8d-e715-49ba-ae79-95dbca5966d7"
      },
      "execution_count": 83,
      "outputs": [
        {
          "output_type": "stream",
          "name": "stdout",
          "text": [
            "내 키는 185.5입니다.\n",
            "내 키는 185.5입니다.\n"
          ]
        }
      ]
    },
    {
      "cell_type": "code",
      "source": [
        "#format()\n",
        "\n",
        "zipcode = '06236'\n",
        "print('우편번호 : %s' % zipcode)\n",
        "print('우편번호 : {}'.format(zipcode))"
      ],
      "metadata": {
        "colab": {
          "base_uri": "https://localhost:8080/"
        },
        "id": "ocaOXx1swkjD",
        "outputId": "d885ae45-75ea-48a3-d4c0-019ae37efe46"
      },
      "execution_count": 86,
      "outputs": [
        {
          "output_type": "stream",
          "name": "stdout",
          "text": [
            "우편번호 : 06236\n",
            "우편번호 : 06236\n"
          ]
        }
      ]
    },
    {
      "cell_type": "code",
      "source": [
        "print('My name is {}. l\\'m{} years old'.format('James', 25))\n",
        "print('My name is {1}. l\\'m{0} years old'.format('James', 25))\n",
        "print('My name is {name}. l\\'m{age} years old'.format(age=25, name='James'))"
      ],
      "metadata": {
        "colab": {
          "base_uri": "https://localhost:8080/"
        },
        "id": "kLXrOnudwkpn",
        "outputId": "9dfef174-928f-4da2-d6af-32046a6b66b0"
      },
      "execution_count": 89,
      "outputs": [
        {
          "output_type": "stream",
          "name": "stdout",
          "text": [
            "My name is James. l'm25 years old\n",
            "My name is 25. l'mJames years old\n",
            "My name is James. l'm25 years old\n"
          ]
        }
      ]
    },
    {
      "cell_type": "code",
      "source": [
        "# f-stings\n",
        "# 파이썬 3.6 이후 부터 사용 가능\n",
        "\n",
        "who = 'you'\n",
        "how = 'happy'\n",
        "print(f'{who} make me {how}')"
      ],
      "metadata": {
        "colab": {
          "base_uri": "https://localhost:8080/"
        },
        "id": "7DvAsnAe3X1J",
        "outputId": "d75fe957-5cbc-4e8f-bf72-639e04bfd886"
      },
      "execution_count": 90,
      "outputs": [
        {
          "output_type": "stream",
          "name": "stdout",
          "text": [
            "you make me happy\n"
          ]
        }
      ]
    },
    {
      "cell_type": "code",
      "source": [
        "age = 25\n",
        "print(f'내년에는 {age+1} 입니다.')"
      ],
      "metadata": {
        "colab": {
          "base_uri": "https://localhost:8080/"
        },
        "id": "wpX7WKDm3X-R",
        "outputId": "5eaed6da-8154-42fa-d055-8596ab70f173"
      },
      "execution_count": 91,
      "outputs": [
        {
          "output_type": "stream",
          "name": "stdout",
          "text": [
            "내년에는 26 입니다.\n"
          ]
        }
      ]
    },
    {
      "cell_type": "code",
      "source": [
        "################\n",
        "# 입력 input()\n",
        "################\n",
        "\n",
        "n = input()\n",
        "print(f'당신이 입력한 내용은 {n} 입니다.')\n",
        "print('당신이 입력한 내용은', n, '입니다.')\n",
        "\n"
      ],
      "metadata": {
        "colab": {
          "base_uri": "https://localhost:8080/"
        },
        "id": "0aTJQ78p3YF-",
        "outputId": "6671b8de-89b9-43a0-f0bf-ea822c8d3fbc"
      },
      "execution_count": 94,
      "outputs": [
        {
          "output_type": "stream",
          "name": "stdout",
          "text": [
            "ㅇ\n",
            "당신이 입력한 내용은 ㅇ 입니다.\n",
            "당신이 입력한 내용은 ㅇ 입니다.\n"
          ]
        }
      ]
    },
    {
      "cell_type": "code",
      "source": [
        "n = input('당신의 나이를 입력하세요.')\n",
        "print(f'당신의 나이는 {n} 입니다.')\n",
        "print('당신이 나이는', n, '입니다.')"
      ],
      "metadata": {
        "colab": {
          "base_uri": "https://localhost:8080/"
        },
        "id": "a9blprM25Wx0",
        "outputId": "13da4d88-c843-49d8-d68a-fa8b35bb503e"
      },
      "execution_count": 95,
      "outputs": [
        {
          "output_type": "stream",
          "name": "stdout",
          "text": [
            "당신의 나이를 입력하세요.20\n",
            "당신의 나이는 20 입니다.\n",
            "당신이 나이는 20 입니다.\n"
          ]
        }
      ]
    },
    {
      "cell_type": "code",
      "source": [
        "n = input('이름을 입력하세요.')\n",
        "m = int(input('나이를 입력하세요.'))\n",
        "\n",
        "#1.기본\n",
        "print('당신의 이름은', n, '이고 나이는', m, '입니다.')\n",
        "#2.f-string\n",
        "print(f'당신의 이름은 {n}이고 나이는 {m} 입니다.')\n",
        "#3.format()\n",
        "print('당신의 이름은 {}이고 나이는 {} 입니다.'.format(n, m))\n",
        "#4.% 연산자\n",
        "print('당신의 이름은 %s이고 나이는 %d 입니다.' % (n, m))\n",
        "\n",
        "print(name, type(n))\n",
        "print(age, type(m))"
      ],
      "metadata": {
        "colab": {
          "base_uri": "https://localhost:8080/"
        },
        "id": "nAeTHyHy5W71",
        "outputId": "7184a930-2f6c-4e3c-9d0b-a5ce8edf6c59"
      },
      "execution_count": 105,
      "outputs": [
        {
          "output_type": "stream",
          "name": "stdout",
          "text": [
            "이름을 입력하세요.이지은\n",
            "나이를 입력하세요.24\n",
            "당신의 이름은 이지은 이고 나이는 24 입니다.\n",
            "당신의 이름은 이지은이고 나이는 24 입니다.\n",
            "당신의 이름은 이지은이고 나이는 24 입니다.\n",
            "당신의 이름은 이지은이고 나이는 24 입니다.\n",
            "kai <class 'str'>\n",
            "25 <class 'int'>\n"
          ]
        }
      ]
    },
    {
      "cell_type": "code",
      "source": [
        "m = int(input('할부 개월 입력 : '))\n",
        "n = round(50000/m,2)\n",
        "print('%d 개월 동안 매달 내는 금액은 %d 입니다.' % (m, n))\n",
        "print(m,'개월 동안 매달 내는 금액은', n ,'입니다.')\n",
        "print('{} 개월 동안 매달 내는 금액은 {} 입니다.'.format(m, n))\n",
        "print(f'{m} 개월 동안 매달 내는 금액은 {n} 입니다.')"
      ],
      "metadata": {
        "colab": {
          "base_uri": "https://localhost:8080/"
        },
        "id": "ELF4m0Gs5XDd",
        "outputId": "f459f89a-02b5-440c-ed9b-f10a259a20e7"
      },
      "execution_count": 123,
      "outputs": [
        {
          "output_type": "stream",
          "name": "stdout",
          "text": [
            "할부 개월 입력 : 3\n",
            "3 개월 동안 매달 내는 금액은 16666 입니다.\n",
            "3 개월 동안 매달 내는 금액은 16666.67 입니다.\n",
            "3 개월 동안 매달 내는 금액은 16666.67 입니다.\n",
            "3 개월 동안 매달 내는 금액은 16666.67 입니다.\n"
          ]
        }
      ]
    },
    {
      "cell_type": "code",
      "source": [
        "n = float(input('실수1:'))\n",
        "m = float(input('실수2:'))\n",
        "sum = n + m\n",
        "#1.기본\n",
        "print( n, '과 ', m, '의 합계는 ', sum)\n",
        "#2.f-string\n",
        "print(f'{n}과  {m} 의 합계는 {sum}입니다.')\n",
        "#3.format()\n",
        "print('{}과 {}의 합계는 {}입니다'.format(n, m, sum))\n",
        "#4.% 연산자\n",
        "print(' %f 과 %f의 합계는 %f입니다.' % (n, m, sum))"
      ],
      "metadata": {
        "colab": {
          "base_uri": "https://localhost:8080/"
        },
        "id": "hTHoPAa759ou",
        "outputId": "9ed48957-bd7b-416a-db08-1bb00953eef2"
      },
      "execution_count": 125,
      "outputs": [
        {
          "output_type": "stream",
          "name": "stdout",
          "text": [
            "실수1:3.4\n",
            "실수2:2.4\n",
            "3.4 과  2.4 의 합계는  5.8\n",
            "3.4과  2.4 의 합계는 5.8입니다.\n",
            "3.4과 2.4의 합계는 5.8입니다\n",
            " 3.400000 과 2.400000의 합계는 5.800000입니다.\n"
          ]
        }
      ]
    },
    {
      "cell_type": "markdown",
      "source": [
        ""
      ],
      "metadata": {
        "id": "RccnaReH9nPA"
      }
    }
  ]
}